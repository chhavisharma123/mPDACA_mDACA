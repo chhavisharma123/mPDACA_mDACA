{
 "cells": [
  {
   "cell_type": "code",
   "execution_count": 69,
   "metadata": {},
   "outputs": [],
   "source": [
    "import numpy as np\n",
    "from numpy import linalg as LA"
   ]
  },
  {
   "cell_type": "code",
   "execution_count": 70,
   "metadata": {},
   "outputs": [],
   "source": [
    "\n",
    "\"\"\"\n",
    "calling function projection onto l1 ball \n",
    "\"\"\"\n",
    "\n",
    "%run ./Fast_projection_simplex_l1ball.ipynb\n",
    "\n"
   ]
  },
  {
   "cell_type": "code",
   "execution_count": 71,
   "metadata": {},
   "outputs": [],
   "source": [
    "\"\"\"\n",
    "Projection of point v onto l2 ball of radius R centred at v0, if v lies outside the ball \n",
    "then Proj(v) = v0 + (R/||v-v0||)(v-v0)\n",
    "\"\"\"\n",
    "\n",
    "def projection_l2ball_centre_v0(v,v0,R):\n",
    "    diff = np.subtract(v,v0)\n",
    "    norm = LA.norm(diff)\n",
    "#     print (norm)\n",
    "    if (norm <= R):\n",
    "#         print ('norm of projection point:',norm)\n",
    "        return v\n",
    "    else:\n",
    "        scaling = R/norm\n",
    "        scaled_vector = scaling*np.array(diff)\n",
    "        projection = np.add(v0,scaled_vector)\n",
    "#         print ('norm of projection point:',LA.norm(projection))\n",
    "\n",
    "        return projection"
   ]
  },
  {
   "cell_type": "code",
   "execution_count": 72,
   "metadata": {},
   "outputs": [],
   "source": [
    "# v = [10,2,10]\n",
    "# v0 = [10,-1/3,1/2]\n",
    "# R = 2\n",
    "# proj_v = projection_l2ball_centre_v0(v,v0,R)\n",
    "# print ('projection of v:',proj_v)\n",
    "# diff_v_v0 = np.subtract(v,v0)\n",
    "# print ('||v-v0||:',LA.norm(diff_v_v0))\n",
    "# diff = np.subtract(projection,v0)\n",
    "# print ('||projection-v0||:',LA.norm(diff))\n"
   ]
  },
  {
   "cell_type": "code",
   "execution_count": 73,
   "metadata": {},
   "outputs": [],
   "source": [
    "\"\"\"\n",
    "Dikstra projected algorithm for projection onto the intersection of two convex sets, r1 is the diameter of original constraint\n",
    "set X = {x:||x||_1 \\leq r1|and r2 is the diameter of X^i_k set.\n",
    "Reference: Birgin, Ernesto G., and Marcos Raydan. \"Dykstra's Algorithm and Robust Stopping Criteria.\" (2009): 828-833.\n",
    "\n",
    "\"\"\"\n",
    "\n",
    "def Dikstra(v,v0,r1,r2,tolerance):\n",
    "    x2_old = np.copy(v) ## x_2^{k-1}\n",
    "    x1_old = np.copy(x2_old) ## x_0^k\n",
    "    y1_old =  np.zeros(len(v)) ## y_1^0\n",
    "    y2_old =  np.zeros(len(v))\n",
    "    c_I = 10**15\n",
    "    while (c_I > tolerance):\n",
    "        diff_1 = np.subtract(x1_old,y1_old)\n",
    "#         print ('type of projected point:', type(diff_1))\n",
    "#         print ('type of radius:', type(r1))\n",
    "        x_1 = projection_l1_ball(diff_1,r1)\n",
    "        y_1 = np.subtract(x_1,diff_1)\n",
    "        diff2 = np.subtract(x_1,y2_old)\n",
    "#         print ('size of diff2',len(diff2))\n",
    "        x_2 = projection_l2ball_centre_v0(diff2,v0,r2)\n",
    "#         print ('size of x_2',len(x_2))\n",
    "        y_2 = np.subtract(x_2,diff2)\n",
    "#         print ('size of y_2',len(y_2))\n",
    "#         print ('x_1 =',x_1)\n",
    "#         print ('x_2 =',x_2)\n",
    "#         print ('y_1 =',y_1)\n",
    "#         print ('y_2 =',y_2)\n",
    "        \"\"\"\n",
    "        stopping condition:\n",
    "        \"\"\"\n",
    "        first_diff = np.subtract(y1_old,y_1)\n",
    "        second_diff = np.subtract(y2_old,y_2)\n",
    "        c_I = (LA.norm(first_diff))**2 + (LA.norm(second_diff))**2\n",
    "        x1_old = np.copy(x_2)\n",
    "        y1_old = np.copy(y_1)\n",
    "        y2_old = np.copy(y_2)\n",
    "#         print ('c_I',c_I)\n",
    "\n",
    "#         print ('x1_old',x1_old[0])\n",
    "#         print ('c_I',c_I)\n",
    "    return x1_old\n",
    "    \n",
    "    "
   ]
  },
  {
   "cell_type": "code",
   "execution_count": 74,
   "metadata": {},
   "outputs": [
    {
     "name": "stdout",
     "output_type": "stream",
     "text": [
      "<class 'numpy.ndarray'>\n",
      "<class 'numpy.ndarray'>\n",
      "type of projected point: <class 'numpy.ndarray'>\n",
      "length of projected point y: 3\n",
      "point of projection:\n",
      "[0. 1. 0.]\n",
      "sum of coordinates: 1.0\n",
      "x_1 = [-0.  1.  0.]\n",
      "x_2 = [-0.  1.  0.]\n",
      "y_1 = [ 1. -1. -1.]\n",
      "y_2 = [0. 0. 0.]\n",
      "c_I 2.9999999999999996\n",
      "type of projected point: <class 'numpy.ndarray'>\n",
      "length of projected point y: 3\n",
      "point of projection:\n",
      "[0. 1. 0.]\n",
      "sum of coordinates: 1.0\n",
      "x_1 = [-0.  1.  0.]\n",
      "x_2 = [-0.  1.  0.]\n",
      "y_1 = [ 1. -1. -1.]\n",
      "y_2 = [0. 0. 0.]\n",
      "c_I 0.0\n"
     ]
    },
    {
     "name": "stderr",
     "output_type": "stream",
     "text": [
      "C:\\Users\\Chhavi\\anaconda3\\lib\\site-packages\\ipykernel_launcher.py:48: DeprecationWarning: The truth value of an empty array is ambiguous. Returning False, but in future this will result in an error. Use `array.size > 0` to check that an array is not empty.\n"
     ]
    }
   ],
   "source": [
    "# Example 1:\n",
    "# v = np.array([-1,2,1])\n",
    "# print (type(v))\n",
    "# v0 = np.array([1,-1/3,1/2])\n",
    "# print (type(v0))\n",
    "# r1 = 1\n",
    "# r2 = 2\n",
    "# tolerence = 10**(-15)\n",
    "\n",
    "# Example 2:\n",
    "# v = [10,2,10]\n",
    "# v0 = [10,-1/3,1/2]\n",
    "# r1 = 1\n",
    "# r2 = 2\n",
    "# tolerence = 10**(-15)\n",
    "# proj_v = Dikstra(v,v0,r1,r2,tolerence)\n",
    "# print (proj_v)\n",
    "# diff_v_v0 = np.subtract(v,v0)\n",
    "# print ('||v-v0||:',LA.norm(diff_v_v0))\n",
    "# diff = np.subtract(proj_v,v0)\n",
    "# print ('||projection-v0||:',LA.norm(diff))\n"
   ]
  },
  {
   "cell_type": "code",
   "execution_count": 75,
   "metadata": {},
   "outputs": [],
   "source": [
    "# f = LA.norm(x)\n",
    "# # print (f)\n",
    "# # f2 = np.subtract(v0,x)\n",
    "# print (LA.norm(f2))"
   ]
  },
  {
   "cell_type": "code",
   "execution_count": null,
   "metadata": {},
   "outputs": [],
   "source": []
  }
 ],
 "metadata": {
  "kernelspec": {
   "display_name": "Python 3",
   "language": "python",
   "name": "python3"
  },
  "language_info": {
   "codemirror_mode": {
    "name": "ipython",
    "version": 3
   },
   "file_extension": ".py",
   "mimetype": "text/x-python",
   "name": "python",
   "nbconvert_exporter": "python",
   "pygments_lexer": "ipython3",
   "version": "3.7.6"
  }
 },
 "nbformat": 4,
 "nbformat_minor": 4
}
